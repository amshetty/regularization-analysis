{
 "cells": [
  {
   "cell_type": "code",
   "execution_count": 42,
   "metadata": {},
   "outputs": [
    {
     "name": "stdout",
     "output_type": "stream",
     "text": [
      "Train on 60000 samples\n",
      "Epoch 1/40\n",
      "60000/60000 [==============================] - 4s 60us/sample - loss: 0.4988 - accuracy: 0.8248\n",
      "Epoch 2/40\n",
      "60000/60000 [==============================] - 4s 60us/sample - loss: 0.3753 - accuracy: 0.8654\n",
      "Epoch 3/40\n",
      "60000/60000 [==============================] - 4s 63us/sample - loss: 0.3386 - accuracy: 0.8761\n",
      "Epoch 4/40\n",
      "60000/60000 [==============================] - 4s 60us/sample - loss: 0.3140 - accuracy: 0.8839\n",
      "Epoch 5/40\n",
      "60000/60000 [==============================] - 4s 61us/sample - loss: 0.2968 - accuracy: 0.8908\n",
      "Epoch 6/40\n",
      "60000/60000 [==============================] - 3s 57us/sample - loss: 0.2834 - accuracy: 0.8950\n",
      "Epoch 7/40\n",
      "60000/60000 [==============================] - 4s 63us/sample - loss: 0.2692 - accuracy: 0.9004\n",
      "Epoch 8/40\n",
      "60000/60000 [==============================] - 4s 59us/sample - loss: 0.2593 - accuracy: 0.9037\n",
      "Epoch 9/40\n",
      "60000/60000 [==============================] - 4s 59us/sample - loss: 0.2489 - accuracy: 0.9073\n",
      "Epoch 10/40\n",
      "60000/60000 [==============================] - 3s 58us/sample - loss: 0.2403 - accuracy: 0.9104\n",
      "Epoch 11/40\n",
      "60000/60000 [==============================] - 3s 58us/sample - loss: 0.2321 - accuracy: 0.9131\n",
      "Epoch 12/40\n",
      "60000/60000 [==============================] - 4s 60us/sample - loss: 0.2254 - accuracy: 0.9153\n",
      "Epoch 13/40\n",
      "60000/60000 [==============================] - 4s 61us/sample - loss: 0.2189 - accuracy: 0.9172\n",
      "Epoch 14/40\n",
      "60000/60000 [==============================] - 3s 56us/sample - loss: 0.2115 - accuracy: 0.9198\n",
      "Epoch 15/40\n",
      "60000/60000 [==============================] - 3s 53us/sample - loss: 0.2054 - accuracy: 0.9227\n",
      "Epoch 16/40\n",
      "60000/60000 [==============================] - 4s 60us/sample - loss: 0.1989 - accuracy: 0.9258\n",
      "Epoch 17/40\n",
      "60000/60000 [==============================] - 3s 56us/sample - loss: 0.1934 - accuracy: 0.9266\n",
      "Epoch 18/40\n",
      "60000/60000 [==============================] - 3s 57us/sample - loss: 0.1893 - accuracy: 0.9288\n",
      "Epoch 19/40\n",
      "60000/60000 [==============================] - 3s 55us/sample - loss: 0.1843 - accuracy: 0.9309\n",
      "Epoch 20/40\n",
      "60000/60000 [==============================] - 3s 52us/sample - loss: 0.1811 - accuracy: 0.9316\n",
      "Epoch 21/40\n",
      "60000/60000 [==============================] - 3s 52us/sample - loss: 0.1775 - accuracy: 0.9330\n",
      "Epoch 22/40\n",
      "60000/60000 [==============================] - 3s 53us/sample - loss: 0.1720 - accuracy: 0.9355\n",
      "Epoch 23/40\n",
      "60000/60000 [==============================] - 3s 52us/sample - loss: 0.1646 - accuracy: 0.9386\n",
      "Epoch 24/40\n",
      "60000/60000 [==============================] - 3s 55us/sample - loss: 0.1635 - accuracy: 0.9388\n",
      "Epoch 25/40\n",
      "60000/60000 [==============================] - 3s 54us/sample - loss: 0.1613 - accuracy: 0.9396\n",
      "Epoch 26/40\n",
      "60000/60000 [==============================] - 3s 57us/sample - loss: 0.1548 - accuracy: 0.9412\n",
      "Epoch 27/40\n",
      "60000/60000 [==============================] - 3s 53us/sample - loss: 0.1522 - accuracy: 0.9423\n",
      "Epoch 28/40\n",
      "60000/60000 [==============================] - 3s 53us/sample - loss: 0.1491 - accuracy: 0.9437\n",
      "Epoch 29/40\n",
      "60000/60000 [==============================] - 3s 55us/sample - loss: 0.1454 - accuracy: 0.9451\n",
      "Epoch 30/40\n",
      "60000/60000 [==============================] - 3s 57us/sample - loss: 0.1448 - accuracy: 0.9458\n",
      "Epoch 31/40\n",
      "60000/60000 [==============================] - 4s 66us/sample - loss: 0.1408 - accuracy: 0.9471\n",
      "Epoch 32/40\n",
      "60000/60000 [==============================] - 4s 60us/sample - loss: 0.1346 - accuracy: 0.9499\n",
      "Epoch 33/40\n",
      "60000/60000 [==============================] - 4s 59us/sample - loss: 0.1340 - accuracy: 0.9485\n",
      "Epoch 34/40\n",
      "60000/60000 [==============================] - 3s 56us/sample - loss: 0.1291 - accuracy: 0.9522\n",
      "Epoch 35/40\n",
      "60000/60000 [==============================] - 3s 56us/sample - loss: 0.1308 - accuracy: 0.9513\n",
      "Epoch 36/40\n",
      "60000/60000 [==============================] - 3s 57us/sample - loss: 0.1265 - accuracy: 0.9517\n",
      "Epoch 37/40\n",
      "60000/60000 [==============================] - 3s 54us/sample - loss: 0.1229 - accuracy: 0.9539\n",
      "Epoch 38/40\n",
      "60000/60000 [==============================] - 3s 55us/sample - loss: 0.1236 - accuracy: 0.9534\n",
      "Epoch 39/40\n",
      "60000/60000 [==============================] - 3s 55us/sample - loss: 0.1187 - accuracy: 0.9550\n",
      "Epoch 40/40\n",
      "60000/60000 [==============================] - 4s 63us/sample - loss: 0.1193 - accuracy: 0.9553\n"
     ]
    }
   ],
   "source": [
    "import tensorflow as tf\n",
    "from tensorflow import keras\n",
    "import matplotlib.pyplot as plt\n",
    "from tensorflow.keras import regularizers\n",
    "\n",
    "\n",
    "data=keras.datasets.fashion_mnist\n",
    "\n",
    "(train_images, train_labels),(test_images, test_labels)=data.load_data()\n",
    "\n",
    "train_images=train_images/255\n",
    "test_images=test_images/255\n",
    "\n",
    "\n",
    "model=keras.Sequential([\n",
    "    keras.layers.Flatten(input_shape=(28,28)),\n",
    "    keras.layers.Dense(128, activation='relu'),\n",
    "    keras.layers.Dense(10, activation='softmax')\n",
    "])\n",
    "\n",
    "\n",
    "model1=keras.Sequential([\n",
    "    keras.layers.Flatten(input_shape=(28,28)),\n",
    "    keras.layers.Dense(48, activation='relu', kernel_regularizer=regularizers.l2(0.0001), bias_regularizer=regularizers.l2(0.0001)),\n",
    "    tf.keras.layers.Dropout(0.2),\n",
    "    keras.layers.Dense(10, activation='softmax', kernel_regularizer=regularizers.l2(0.0001), bias_regularizer=regularizers.l2(0.0001))\n",
    "])\n",
    "\n",
    "model.compile(optimizer='adam', loss='sparse_categorical_crossentropy', metrics=['accuracy'])\n",
    "model1.compile(optimizer='adam', loss='sparse_categorical_crossentropy', metrics=['accuracy'])\n",
    "\n",
    "result=model.fit(train_images, train_labels , epochs=40)\n"
   ]
  },
  {
   "cell_type": "code",
   "execution_count": 36,
   "metadata": {},
   "outputs": [],
   "source": [
    "model.predict_classes(test_images)\n",
    "weights, biases = model.layers[1].get_weights()"
   ]
  },
  {
   "cell_type": "code",
   "execution_count": 37,
   "metadata": {},
   "outputs": [
    {
     "name": "stdout",
     "output_type": "stream",
     "text": [
      "Train on 60000 samples\n",
      "Epoch 1/20\n",
      "60000/60000 [==============================] - 4s 60us/sample - loss: 0.6241 - accuracy: 0.7894\n",
      "Epoch 2/20\n",
      "60000/60000 [==============================] - 3s 53us/sample - loss: 0.4756 - accuracy: 0.8382\n",
      "Epoch 3/20\n",
      "60000/60000 [==============================] - 3s 54us/sample - loss: 0.4470 - accuracy: 0.8501\n",
      "Epoch 4/20\n",
      "60000/60000 [==============================] - 3s 54us/sample - loss: 0.4290 - accuracy: 0.8576\n",
      "Epoch 5/20\n",
      "60000/60000 [==============================] - 3s 53us/sample - loss: 0.4224 - accuracy: 0.8611\n",
      "Epoch 6/20\n",
      "60000/60000 [==============================] - 3s 54us/sample - loss: 0.4132 - accuracy: 0.8634\n",
      "Epoch 7/20\n",
      "60000/60000 [==============================] - 3s 53us/sample - loss: 0.4089 - accuracy: 0.8645\n",
      "Epoch 8/20\n",
      "60000/60000 [==============================] - 3s 54us/sample - loss: 0.4067 - accuracy: 0.8662\n",
      "Epoch 9/20\n",
      "60000/60000 [==============================] - 3s 53us/sample - loss: 0.4043 - accuracy: 0.8677\n",
      "Epoch 10/20\n",
      "60000/60000 [==============================] - 3s 53us/sample - loss: 0.3984 - accuracy: 0.8697\n",
      "Epoch 11/20\n",
      "60000/60000 [==============================] - 3s 53us/sample - loss: 0.4006 - accuracy: 0.8705\n",
      "Epoch 12/20\n",
      "60000/60000 [==============================] - 3s 53us/sample - loss: 0.3984 - accuracy: 0.8711\n",
      "Epoch 13/20\n",
      "60000/60000 [==============================] - 3s 55us/sample - loss: 0.3968 - accuracy: 0.8719\n",
      "Epoch 14/20\n",
      "60000/60000 [==============================] - 3s 53us/sample - loss: 0.3947 - accuracy: 0.8724\n",
      "Epoch 15/20\n",
      "60000/60000 [==============================] - 3s 53us/sample - loss: 0.3910 - accuracy: 0.8749\n",
      "Epoch 16/20\n",
      "60000/60000 [==============================] - 3s 53us/sample - loss: 0.3923 - accuracy: 0.8738\n",
      "Epoch 17/20\n",
      "60000/60000 [==============================] - 3s 55us/sample - loss: 0.3885 - accuracy: 0.8758\n",
      "Epoch 18/20\n",
      "60000/60000 [==============================] - 3s 56us/sample - loss: 0.3892 - accuracy: 0.8751\n",
      "Epoch 19/20\n",
      "60000/60000 [==============================] - 3s 56us/sample - loss: 0.3868 - accuracy: 0.8766\n",
      "Epoch 20/20\n",
      "60000/60000 [==============================] - 3s 55us/sample - loss: 0.3866 - accuracy: 0.8761\n"
     ]
    }
   ],
   "source": [
    "result1=model1.fit(train_images, train_labels, epochs=40)"
   ]
  },
  {
   "cell_type": "code",
   "execution_count": 38,
   "metadata": {},
   "outputs": [],
   "source": [
    "weights1, biases1 = model1.layers[1].get_weights()"
   ]
  },
  {
   "cell_type": "code",
   "execution_count": 39,
   "metadata": {},
   "outputs": [
    {
     "data": {
      "image/png": "[encoded data removed]",
      "text/plain": [
       "<Figure size 432x288 with 1 Axes>"
      ]
     },
     "metadata": {
      "needs_background": "light"
     },
     "output_type": "display_data"
    },
    {
     "data": {
      "image/png": "[encoded data removed]",
      "text/plain": [
       "<Figure size 432x288 with 1 Axes>"
      ]
     },
     "metadata": {
      "needs_background": "light"
     },
     "output_type": "display_data"
    }
   ],
   "source": [
    "plt.figure(1)\n",
    "plt.title(\"Weight histogram without regularization: Layer 1\")\n",
    "plt.hist(weights)\n",
    "plt.figure(2)\n",
    "plt.title(\"Weight histogram with regularization: Layer 1\")\n",
    "plt.hist(weights1)\n",
    "plt.show()"
   ]
  },
  {
   "cell_type": "code",
   "execution_count": 40,
   "metadata": {},
   "outputs": [
    {
     "data": {
      "image/png": "[encoded data removed]",
      "text/plain": [
       "<Figure size 432x288 with 1 Axes>"
      ]
     },
     "metadata": {
      "needs_background": "light"
     },
     "output_type": "display_data"
    }
   ],
   "source": [
    "weights, biases = model.layers[2].get_weights()\n",
    "plt.hist(weights)\n",
    "plt.title(\"Weight histogram without regularization: Layer 2\")\n",
    "plt.show()"
   ]
  },
  {
   "cell_type": "code",
   "execution_count": 41,
   "metadata": {},
   "outputs": [
    {
     "data": {
      "image/png": "[encoded data removed]",
      "text/plain": [
       "<Figure size 432x288 with 1 Axes>"
      ]
     },
     "metadata": {
      "needs_background": "light"
     },
     "output_type": "display_data"
    }
   ],
   "source": [
    "weights1, biases1 = model1.layers[3].get_weights()\n",
    "plt.hist(weights1)\n",
    "plt.title(\"Weight histogram with regularization: Layer 2\")\n",
    "plt.show()"
   ]
  },
  {
   "cell_type": "code",
   "execution_count": null,
   "metadata": {},
   "outputs": [],
   "source": []
  }
 ],
 "metadata": {
  "kernelspec": {
   "display_name": "Python 3",
   "language": "python",
   "name": "python3"
  },
  "language_info": {
   "codemirror_mode": {
    "name": "ipython",
    "version": 3
   },
   "file_extension": ".py",
   "mimetype": "text/x-python",
   "name": "python",
   "nbconvert_exporter": "python",
   "pygments_lexer": "ipython3",
   "version": "3.7.4"
  }
 },
 "nbformat": 4,
 "nbformat_minor": 2
}
